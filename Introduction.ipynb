{
 "cells": [
  {
   "cell_type": "markdown",
   "metadata": {},
   "source": [
    "## Python as a Language\n",
    "Just like any other languages, computer language is one that we use to communicate with the computer. Knowing how the programming language will allow us to better communicate with the computer so that they can perform the task you want to perform. Python has been increasingly popular due to the availability of many open libraries that are already developed and ready to be imported for us to use and their relatively simpler syntaxes. Like any other languages, Python has its own set of rules. Among all the other programming languages, the syntaxes of Python is considered easier to understand and is more beginner friendly."
   ]
  },
  {
   "cell_type": "markdown",
   "metadata": {},
   "source": [
    "### Jupyter Notebook\n",
    "Before getting started there are some settings and shortcuts that are useful in helping you for the rest of the workshop.\n",
    "\n"
   ]
  },
  {
   "cell_type": "markdown",
   "metadata": {},
   "source": [
    "### Line numbers\n",
    "As you type paragraphs of codes while trying to perform certain task, you may encounter an error. It would be more convenient for you to toggle the line numbers so that you are able to track the corresponding error that you are facing. <br>\n",
    "To do so, create a new cell from the `+` icon on the top left corner and double click the cell. Press <span style=\"font-weight:bold\">`Ctrl+M`</span> at the same time to the command mode and type <span style=\"font-weight:bold\">`L`</span> and you will see the numbers showing at the left side of the cells. Similarly, you can use the same method to off the line number.\n"
   ]
  },
  {
   "cell_type": "markdown",
   "metadata": {},
   "source": [
    "### Shortcuts\n",
    "Below are some shortcuts which can come in handy for you\n",
    "\n",
    "Firstly there are 2 modes in Jupyter Notebook.<br>\n",
    "> 1. Command Mode : You can switch to command mode using 2 ways. 1. Click at the empty left hand space of the cell once. 2.Press **`Ctrl-M`**  at the same time. Command mode can be identify by the <font color=\"blue\">blue</font> cell border <br>\n",
    "> 2. Edit Mode: You are in the editing mode when you are typing in the cell, and is done by clicking into the cell. Edit mode can be identify by the <font color= \"green\">green</font> cell border <br>\n",
    "\n",
    "#### Command Mode shortcuts:\n",
    "> 1. Press **`Ctrl+Enter`**: run cell <br>\n",
    "> 2. Press **`Shift+Enter`**: run cell and select below cell<br>\n",
    "> 3. Press **`A`**: insert cell above <br>\n",
    "> 4. Press **`B`**: insert cell below <br>\n",
    "> 5. Press **`C`**: copy cell <br>\n",
    "> 6. Press **`V`**: paste cell <br>\n",
    "> 7. Press **`B`**: insert cell below <br>\n",
    "> 8. Press **`D`** two times: delete selected cell <br>\n",
    "> 9. Press **`Shift + M`**: merge selected cells, or current cell with cell below if only one cell selected <br>\n",
    "> 10. Press **`Y`**: change cell to \"Cell\" mode <br>\n",
    "> 11. Press **`M`**: change cell to \"Markdown\" mode <br>\n",
    "\n",
    "#### Edit Mode shortcuts:\n",
    "> 1. Press **`Ctrl+Click`**: for multi-cursor editing <br>\n",
    "> 2. Press **`Ctrl+/`**: toggle comment linesl<br>\n",
    "> 3. Press **`Tab`**: completion of code when typing the front few words of the code and for indentation <br>\n",
    "> 4. Press **`Ctrl+Shift+'-'`**: split cell into 2 from cursor point <br>"
   ]
  },
  {
   "cell_type": "markdown",
   "metadata": {},
   "source": [
    "### Type of Jupyter Notebook cells\n",
    "There are 4 types of Jupyter Notebook cells:\n",
    ">1. **`Cell`**: Use to type codes\n",
    ">2. **`Markdown`**: Use to write instructions or text\n",
    ">3. **`Raw NBConvert`**: Use to type codes/instructions and will not be evaluated/run by Jupyter Notebook\n",
    ">4. **`Heading`**: Use to type headings\n",
    "\n",
    "**Note: Double clicking a Markdown cell will show you HTML codes. Do not panic and just `Ctrl+Enter` to get out of it**"
   ]
  }
 ],
 "metadata": {
  "kernelspec": {
   "display_name": "Python 3",
   "language": "python",
   "name": "python3"
  },
  "language_info": {
   "codemirror_mode": {
    "name": "ipython",
    "version": 3
   },
   "file_extension": ".py",
   "mimetype": "text/x-python",
   "name": "python",
   "nbconvert_exporter": "python",
   "pygments_lexer": "ipython3",
   "version": "3.7.6"
  }
 },
 "nbformat": 4,
 "nbformat_minor": 4
}
